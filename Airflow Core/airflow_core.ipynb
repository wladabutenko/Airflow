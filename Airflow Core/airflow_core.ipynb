{
 "cells": [
  {
   "cell_type": "markdown",
   "source": [
    "Creating DAG"
   ],
   "metadata": {
    "collapsed": false
   }
  },
  {
   "cell_type": "markdown",
   "source": [
    "In order to create a DAG, you must define a DAG file that contains all the details pertaining to DAG tasks, and dependencies must be defined in a file (Python script). This is a configuration file specifying the DAG’s structure as code."
   ],
   "metadata": {
    "collapsed": false
   }
  },
  {
   "cell_type": "markdown",
   "source": [
    "The five steps that must to be taken to run a DAG"
   ],
   "metadata": {
    "collapsed": false
   }
  },
  {
   "cell_type": "markdown",
   "source": [
    "Step 1: Importing the Required Libraries"
   ],
   "metadata": {
    "collapsed": false
   }
  },
  {
   "cell_type": "code",
   "execution_count": 3,
   "outputs": [],
   "source": [
    "from datetime import datetime, timedelta\n",
    "import airflow\n",
    "from airflow import DAG\n",
    "from airflow.operators.bash import BashOperator"
   ],
   "metadata": {
    "collapsed": false,
    "ExecuteTime": {
     "end_time": "2023-07-06T08:39:02.213616700Z",
     "start_time": "2023-07-06T08:39:02.213616700Z"
    }
   }
  },
  {
   "cell_type": "markdown",
   "source": [
    "Step 2: Defining the Default Arguments"
   ],
   "metadata": {
    "collapsed": false
   }
  },
  {
   "cell_type": "markdown",
   "source": [
    "The next step is to define some important parameters, to ensure that Airflow executes the DAGs at designated time intervals and an appropriate number of times."
   ],
   "metadata": {
    "collapsed": false
   }
  },
  {
   "cell_type": "code",
   "execution_count": 4,
   "outputs": [],
   "source": [
    "args = {\n",
    " 'owner': 'Admin',\n",
    " 'start_date': datetime.now() - timedelta(days=3),\n",
    " # 'end_date': datetime(2018, 12, 30),\n",
    " 'depends_on_past': False,\n",
    " 'email': ['airflow@example.com'],\n",
    " 'email_on_failure': False,\n",
    " 'email_on_retry': False,\n",
    " 'retries': 1,\n",
    " 'retry_delay': timedelta(minutes=5),\n",
    "}"
   ],
   "metadata": {
    "collapsed": false,
    "ExecuteTime": {
     "end_time": "2023-07-06T08:39:13.186082900Z",
     "start_time": "2023-07-06T08:39:13.185780400Z"
    }
   }
  },
  {
   "cell_type": "markdown",
   "source": [
    "Step 3: Creating a DAG\n",
    "\n",
    "The third step is to create the DAG itself, which consists of the DAG’s name and schedule interval, as shown following."
   ],
   "metadata": {
    "collapsed": false
   }
  },
  {
   "cell_type": "code",
   "execution_count": 12,
   "outputs": [],
   "source": [
    "dag = DAG(\n",
    "    'pramod_airflow_dag',\n",
    "    default_args=args,\n",
    "    description='A simple DAG',\n",
    "    # Continue to run DAG once per day\n",
    "     schedule=timedelta(days=1)\n",
    ")"
   ],
   "metadata": {
    "collapsed": false,
    "ExecuteTime": {
     "end_time": "2023-07-06T08:40:22.419677700Z",
     "start_time": "2023-07-06T08:40:22.416695700Z"
    }
   }
  },
  {
   "cell_type": "markdown",
   "source": [
    "Step 4: Declaring Tasks\n",
    "\n",
    "The next step is to declare the tasks (actual jobs) to be executed. All the tasks can be declared and made part of the same DAG created in the preceding step."
   ],
   "metadata": {
    "collapsed": false
   }
  },
  {
   "cell_type": "code",
   "execution_count": 13,
   "outputs": [],
   "source": [
    "dag = DAG(\n",
    "    'pramod_airflow_dag',\n",
    "    default_args=args,\n",
    "    description='A simple DAG',\n",
    "    # Continue to run DAG once per day\n",
    "     schedule=timedelta(days=1)\n",
    ")"
   ],
   "metadata": {
    "collapsed": false,
    "ExecuteTime": {
     "end_time": "2023-07-06T08:40:28.860594200Z",
     "start_time": "2023-07-06T08:40:28.856680400Z"
    }
   }
  },
  {
   "cell_type": "code",
   "execution_count": 14,
   "outputs": [],
   "source": [
    "task_1 = BashOperator(\n",
    "    task_id='print_date',\n",
    "    bash_command='date',\n",
    "    dag=dag,\n",
    ")"
   ],
   "metadata": {
    "collapsed": false,
    "ExecuteTime": {
     "end_time": "2023-07-06T08:40:32.705409200Z",
     "start_time": "2023-07-06T08:40:32.702412300Z"
    }
   }
  },
  {
   "cell_type": "code",
   "execution_count": 15,
   "outputs": [],
   "source": [
    "task_2 = BashOperator(\n",
    "    task_id='sleep',\n",
    "    depends_on_past=False,\n",
    "    bash_command='sleep 5',\n",
    "    dag=dag,\n",
    ")"
   ],
   "metadata": {
    "collapsed": false,
    "ExecuteTime": {
     "end_time": "2023-07-06T08:40:33.406724300Z",
     "start_time": "2023-07-06T08:40:33.405456400Z"
    }
   }
  },
  {
   "cell_type": "markdown",
   "source": [
    "Step 5: Mentioning Dependencies\n",
    "\n",
    "The final step is to set the order of task execution. They can be either parallel or sequential tasks. There are multiple ways in which the tasks can be defined."
   ],
   "metadata": {
    "collapsed": false
   }
  },
  {
   "cell_type": "code",
   "execution_count": 16,
   "outputs": [
    {
     "data": {
      "text/plain": "<Task(BashOperator): sleep>"
     },
     "execution_count": 16,
     "metadata": {},
     "output_type": "execute_result"
    }
   ],
   "source": [
    "task_1 >> task_2"
   ],
   "metadata": {
    "collapsed": false,
    "ExecuteTime": {
     "end_time": "2023-07-06T08:40:35.027279100Z",
     "start_time": "2023-07-06T08:40:35.026769900Z"
    }
   }
  }
 ],
 "metadata": {
  "kernelspec": {
   "display_name": "Python 3",
   "language": "python",
   "name": "python3"
  },
  "language_info": {
   "codemirror_mode": {
    "name": "ipython",
    "version": 2
   },
   "file_extension": ".py",
   "mimetype": "text/x-python",
   "name": "python",
   "nbconvert_exporter": "python",
   "pygments_lexer": "ipython2",
   "version": "2.7.6"
  }
 },
 "nbformat": 4,
 "nbformat_minor": 0
}
